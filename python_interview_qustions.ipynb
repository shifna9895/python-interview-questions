{
  "nbformat": 4,
  "nbformat_minor": 0,
  "metadata": {
    "colab": {
      "provenance": [],
      "authorship_tag": "ABX9TyPnY5nF+HszDjOkJza5iGah",
      "include_colab_link": true
    },
    "kernelspec": {
      "name": "python3",
      "display_name": "Python 3"
    },
    "language_info": {
      "name": "python"
    }
  },
  "cells": [
    {
      "cell_type": "markdown",
      "metadata": {
        "id": "view-in-github",
        "colab_type": "text"
      },
      "source": [
        "<a href=\"https://colab.research.google.com/github/shifna9895/python-interview-questions/blob/main/python_interview_qustions.ipynb\" target=\"_parent\"><img src=\"https://colab.research.google.com/assets/colab-badge.svg\" alt=\"Open In Colab\"/></a>"
      ]
    },
    {
      "cell_type": "code",
      "execution_count": null,
      "metadata": {
        "colab": {
          "base_uri": "https://localhost:8080/"
        },
        "id": "v4pZLFfd_T02",
        "outputId": "7897496f-f685-420f-815d-7d98a0481e70"
      },
      "outputs": [
        {
          "output_type": "stream",
          "name": "stdout",
          "text": [
            "world\n",
            "hello\n"
          ]
        }
      ],
      "source": [
        "#1.write a program to swap 2 variables.\n",
        "a='hello'\n",
        "b='world'\n",
        "a,b=b,a\n",
        "print(a)\n",
        "print(b)"
      ]
    },
    {
      "cell_type": "code",
      "source": [
        "#3.write a program to print all even numbers 1 and 100.\n",
        "for i in range(1,101):\n",
        "  if i%2==0:\n",
        "    print(i)"
      ],
      "metadata": {
        "colab": {
          "base_uri": "https://localhost:8080/"
        },
        "id": "P3iMIAi8GFbv",
        "outputId": "cb194b73-e166-4f6a-bf4c-342b3caf03cf"
      },
      "execution_count": null,
      "outputs": [
        {
          "output_type": "stream",
          "name": "stdout",
          "text": [
            "2\n",
            "4\n",
            "6\n",
            "8\n",
            "10\n",
            "12\n",
            "14\n",
            "16\n",
            "18\n",
            "20\n",
            "22\n",
            "24\n",
            "26\n",
            "28\n",
            "30\n",
            "32\n",
            "34\n",
            "36\n",
            "38\n",
            "40\n",
            "42\n",
            "44\n",
            "46\n",
            "48\n",
            "50\n",
            "52\n",
            "54\n",
            "56\n",
            "58\n",
            "60\n",
            "62\n",
            "64\n",
            "66\n",
            "68\n",
            "70\n",
            "72\n",
            "74\n",
            "76\n",
            "78\n",
            "80\n",
            "82\n",
            "84\n",
            "86\n",
            "88\n",
            "90\n",
            "92\n",
            "94\n",
            "96\n",
            "98\n",
            "100\n"
          ]
        }
      ]
    },
    {
      "cell_type": "code",
      "source": [
        "#6.write to maximum of 2 numbers.\n",
        "a=10\n",
        "b=20\n",
        "print(max(a,b))"
      ],
      "metadata": {
        "colab": {
          "base_uri": "https://localhost:8080/"
        },
        "id": "yLRCwDIkN72m",
        "outputId": "b33a59f0-7415-4b2d-bf65-bdc45227e816"
      },
      "execution_count": null,
      "outputs": [
        {
          "output_type": "stream",
          "name": "stdout",
          "text": [
            "20\n"
          ]
        }
      ]
    },
    {
      "cell_type": "code",
      "source": [
        "#7.find the sum of all numbers in a list.\n",
        "list1=[11,5,17,18,23]\n",
        "print(sum(list1))\n"
      ],
      "metadata": {
        "colab": {
          "base_uri": "https://localhost:8080/"
        },
        "id": "U4JgxUYpP19G",
        "outputId": "febae069-2468-4662-aa08-ceabd67a542d"
      },
      "execution_count": null,
      "outputs": [
        {
          "output_type": "stream",
          "name": "stdout",
          "text": [
            "74\n"
          ]
        }
      ]
    },
    {
      "cell_type": "code",
      "source": [
        "#8.find the second largest number in a list.\n",
        "mark=[10,20,4,45,99]\n",
        "mark.sort()\n",
        "print(mark[-2])\n"
      ],
      "metadata": {
        "colab": {
          "base_uri": "https://localhost:8080/"
        },
        "id": "YfuVHwq5QxX0",
        "outputId": "36911988-c629-476c-ba8b-877cab6bf9f0"
      },
      "execution_count": null,
      "outputs": [
        {
          "output_type": "stream",
          "name": "stdout",
          "text": [
            "45\n"
          ]
        }
      ]
    },
    {
      "cell_type": "code",
      "source": [
        "#9.write a function that take a numbers as an argument and returns its square.\n",
        "def squarenumber(num):\n",
        "  return num**2\n",
        "  result=squarenumber(25)\n",
        "  print(result)"
      ],
      "metadata": {
        "id": "P4DlrvGDSO4H"
      },
      "execution_count": null,
      "outputs": []
    },
    {
      "cell_type": "code",
      "source": [
        "#10.count the number of vowels in a string.\n",
        "a=\"hello world\"\n",
        "v=['a','i','o','u','A','I','O','U',]\n",
        "count=0\n",
        "for char in a:\n",
        "  if char in v:\n",
        "    count+=1\n",
        "print(count)"
      ],
      "metadata": {
        "colab": {
          "base_uri": "https://localhost:8080/"
        },
        "id": "39_SgcE7UZAO",
        "outputId": "7122f51d-61d1-4952-cc6c-c45c1cc552d7"
      },
      "execution_count": null,
      "outputs": [
        {
          "output_type": "stream",
          "name": "stdout",
          "text": [
            "2\n"
          ]
        }
      ]
    },
    {
      "cell_type": "code",
      "source": [
        "#11.write a proram to reverse a string.\n",
        "a=\"hello world\"\n",
        "print(a[::-1])"
      ],
      "metadata": {
        "id": "Rdcvp9ekV0HC",
        "colab": {
          "base_uri": "https://localhost:8080/"
        },
        "outputId": "d1170e7a-ceeb-47b0-fdcd-41cadead06ab"
      },
      "execution_count": 3,
      "outputs": [
        {
          "output_type": "stream",
          "name": "stdout",
          "text": [
            "dlrow olleh\n"
          ]
        }
      ]
    },
    {
      "cell_type": "code",
      "source": [
        "#12.write a program to sort a list of numbers in osccending order.\n",
        "list1=[11,5,17,18,23]\n",
        "list1.sort()\n",
        "print(list1)\n"
      ],
      "metadata": {
        "colab": {
          "base_uri": "https://localhost:8080/"
        },
        "id": "zvf3D_gMWJPe",
        "outputId": "fd78fcc7-7836-46be-8295-d451c2cc1282"
      },
      "execution_count": 4,
      "outputs": [
        {
          "output_type": "stream",
          "name": "stdout",
          "text": [
            "[5, 11, 17, 18, 23]\n"
          ]
        }
      ]
    },
    {
      "cell_type": "code",
      "source": [
        "#14.write program to find the intersection of 2 sets.\n",
        "set1={1,2,3,4,5}\n",
        "set2={4,5,6,7,8}\n",
        "print(set1.intersection(set2))\n",
        "\n",
        "\n",
        "\n"
      ],
      "metadata": {
        "colab": {
          "base_uri": "https://localhost:8080/"
        },
        "id": "mj5FWRrjYiPE",
        "outputId": "8fa6047d-01ea-4333-843a-953e58895d26"
      },
      "execution_count": 5,
      "outputs": [
        {
          "output_type": "stream",
          "name": "stdout",
          "text": [
            "{4, 5}\n"
          ]
        }
      ]
    },
    {
      "cell_type": "code",
      "source": [
        "#13.write a program to find the sum of the first n natural numbers.\n",
        "n=10\n",
        "sum=0\n",
        "for i in range(1,n+1):\n",
        "  sum=sum+i\n",
        "  print(sum)"
      ],
      "metadata": {
        "colab": {
          "base_uri": "https://localhost:8080/"
        },
        "id": "ovdDmMvUaPsc",
        "outputId": "57ad1692-7a43-4ad4-addd-5a3ef75d1983"
      },
      "execution_count": 6,
      "outputs": [
        {
          "output_type": "stream",
          "name": "stdout",
          "text": [
            "1\n",
            "3\n",
            "6\n",
            "10\n",
            "15\n",
            "21\n",
            "28\n",
            "36\n",
            "45\n",
            "55\n"
          ]
        }
      ]
    },
    {
      "cell_type": "code",
      "source": [
        "#15.write a program to add 2 numbers and print the result.\n",
        "a=10\n",
        "b=20\n",
        "print(a+b)"
      ],
      "metadata": {
        "colab": {
          "base_uri": "https://localhost:8080/"
        },
        "id": "FkhInGwVbwwO",
        "outputId": "d6d3657b-8b0c-4fc8-c0da-93aded2e32dd"
      },
      "execution_count": 7,
      "outputs": [
        {
          "output_type": "stream",
          "name": "stdout",
          "text": [
            "30\n"
          ]
        }
      ]
    },
    {
      "cell_type": "code",
      "source": [
        "#16.write a program that asks the user for their name and prints a greeting message with thier name.\n",
        "name=input(\"enter your name\")\n",
        "print(\"hello\",name)\n",
        "\n"
      ],
      "metadata": {
        "colab": {
          "base_uri": "https://localhost:8080/",
          "height": 339
        },
        "id": "I5xyOgz4caUo",
        "outputId": "ace9a374-81d8-4d9a-8142-7d2e04e41cd7"
      },
      "execution_count": 2,
      "outputs": [
        {
          "output_type": "error",
          "ename": "KeyboardInterrupt",
          "evalue": "Interrupted by user",
          "traceback": [
            "\u001b[0;31m---------------------------------------------------------------------------\u001b[0m",
            "\u001b[0;31mKeyboardInterrupt\u001b[0m                         Traceback (most recent call last)",
            "\u001b[0;32m<ipython-input-2-95bea6024fbc>\u001b[0m in \u001b[0;36m<cell line: 2>\u001b[0;34m()\u001b[0m\n\u001b[1;32m      1\u001b[0m \u001b[0;31m#16.write a program that asks the user for their name and prints a greeting message with thier name.\u001b[0m\u001b[0;34m\u001b[0m\u001b[0;34m\u001b[0m\u001b[0m\n\u001b[0;32m----> 2\u001b[0;31m \u001b[0mname\u001b[0m\u001b[0;34m=\u001b[0m\u001b[0minput\u001b[0m\u001b[0;34m(\u001b[0m\u001b[0;34m\"enter your name\"\u001b[0m\u001b[0;34m)\u001b[0m\u001b[0;34m\u001b[0m\u001b[0;34m\u001b[0m\u001b[0m\n\u001b[0m\u001b[1;32m      3\u001b[0m \u001b[0mprint\u001b[0m\u001b[0;34m(\u001b[0m\u001b[0;34m\"hello\"\u001b[0m\u001b[0;34m,\u001b[0m\u001b[0mname\u001b[0m\u001b[0;34m)\u001b[0m\u001b[0;34m\u001b[0m\u001b[0;34m\u001b[0m\u001b[0m\n\u001b[1;32m      4\u001b[0m \u001b[0;34m\u001b[0m\u001b[0m\n",
            "\u001b[0;32m/usr/local/lib/python3.10/dist-packages/ipykernel/kernelbase.py\u001b[0m in \u001b[0;36mraw_input\u001b[0;34m(self, prompt)\u001b[0m\n\u001b[1;32m    849\u001b[0m                 \u001b[0;34m\"raw_input was called, but this frontend does not support input requests.\"\u001b[0m\u001b[0;34m\u001b[0m\u001b[0;34m\u001b[0m\u001b[0m\n\u001b[1;32m    850\u001b[0m             )\n\u001b[0;32m--> 851\u001b[0;31m         return self._input_request(str(prompt),\n\u001b[0m\u001b[1;32m    852\u001b[0m             \u001b[0mself\u001b[0m\u001b[0;34m.\u001b[0m\u001b[0m_parent_ident\u001b[0m\u001b[0;34m,\u001b[0m\u001b[0;34m\u001b[0m\u001b[0;34m\u001b[0m\u001b[0m\n\u001b[1;32m    853\u001b[0m             \u001b[0mself\u001b[0m\u001b[0;34m.\u001b[0m\u001b[0m_parent_header\u001b[0m\u001b[0;34m,\u001b[0m\u001b[0;34m\u001b[0m\u001b[0;34m\u001b[0m\u001b[0m\n",
            "\u001b[0;32m/usr/local/lib/python3.10/dist-packages/ipykernel/kernelbase.py\u001b[0m in \u001b[0;36m_input_request\u001b[0;34m(self, prompt, ident, parent, password)\u001b[0m\n\u001b[1;32m    893\u001b[0m             \u001b[0;32mexcept\u001b[0m \u001b[0mKeyboardInterrupt\u001b[0m\u001b[0;34m:\u001b[0m\u001b[0;34m\u001b[0m\u001b[0;34m\u001b[0m\u001b[0m\n\u001b[1;32m    894\u001b[0m                 \u001b[0;31m# re-raise KeyboardInterrupt, to truncate traceback\u001b[0m\u001b[0;34m\u001b[0m\u001b[0;34m\u001b[0m\u001b[0m\n\u001b[0;32m--> 895\u001b[0;31m                 \u001b[0;32mraise\u001b[0m \u001b[0mKeyboardInterrupt\u001b[0m\u001b[0;34m(\u001b[0m\u001b[0;34m\"Interrupted by user\"\u001b[0m\u001b[0;34m)\u001b[0m \u001b[0;32mfrom\u001b[0m \u001b[0;32mNone\u001b[0m\u001b[0;34m\u001b[0m\u001b[0;34m\u001b[0m\u001b[0m\n\u001b[0m\u001b[1;32m    896\u001b[0m             \u001b[0;32mexcept\u001b[0m \u001b[0mException\u001b[0m \u001b[0;32mas\u001b[0m \u001b[0me\u001b[0m\u001b[0;34m:\u001b[0m\u001b[0;34m\u001b[0m\u001b[0;34m\u001b[0m\u001b[0m\n\u001b[1;32m    897\u001b[0m                 \u001b[0mself\u001b[0m\u001b[0;34m.\u001b[0m\u001b[0mlog\u001b[0m\u001b[0;34m.\u001b[0m\u001b[0mwarning\u001b[0m\u001b[0;34m(\u001b[0m\u001b[0;34m\"Invalid Message:\"\u001b[0m\u001b[0;34m,\u001b[0m \u001b[0mexc_info\u001b[0m\u001b[0;34m=\u001b[0m\u001b[0;32mTrue\u001b[0m\u001b[0;34m)\u001b[0m\u001b[0;34m\u001b[0m\u001b[0;34m\u001b[0m\u001b[0m\n",
            "\u001b[0;31mKeyboardInterrupt\u001b[0m: Interrupted by user"
          ]
        }
      ]
    },
    {
      "cell_type": "code",
      "source": [
        "#17.write a program that checks if a given number is even or odd.\n",
        "num=int(input(\"enter a number\"))\n",
        "if num%2==0:\n",
        "  print(\"it is a even number\")\n",
        "  else:\n",
        "    print(\"it is a odd \")\n",
        "\n"
      ],
      "metadata": {
        "colab": {
          "base_uri": "https://localhost:8080/",
          "height": 106
        },
        "id": "7zU8VgaHfoKe",
        "outputId": "c32206d6-2986-4e9f-dbe9-6f5d7ceb820e"
      },
      "execution_count": 5,
      "outputs": [
        {
          "output_type": "error",
          "ename": "SyntaxError",
          "evalue": "invalid syntax (<ipython-input-5-f0f86ab5fc9e>, line 5)",
          "traceback": [
            "\u001b[0;36m  File \u001b[0;32m\"<ipython-input-5-f0f86ab5fc9e>\"\u001b[0;36m, line \u001b[0;32m5\u001b[0m\n\u001b[0;31m    else:\u001b[0m\n\u001b[0m    ^\u001b[0m\n\u001b[0;31mSyntaxError\u001b[0m\u001b[0;31m:\u001b[0m invalid syntax\n"
          ]
        }
      ]
    },
    {
      "cell_type": "code",
      "source": [
        "#18.write a program that creates a list of 5 fruits and prints the list.\n",
        "fruits=['apple','banana','orange','grapes','mango']\n",
        "print(fruits)\n"
      ],
      "metadata": {
        "colab": {
          "base_uri": "https://localhost:8080/"
        },
        "id": "Cy-UuI0klF_M",
        "outputId": "088b6367-ac14-42fd-dfd9-5f07eae462bf"
      },
      "execution_count": 6,
      "outputs": [
        {
          "output_type": "stream",
          "name": "stdout",
          "text": [
            "['apple', 'banana', 'orange', 'grapes', 'mango']\n"
          ]
        }
      ]
    },
    {
      "cell_type": "code",
      "source": [
        "#19.function to add 2 numbers.\n",
        "def add(a,b):\n",
        "  return a+b\n",
        "add(10,20)"
      ],
      "metadata": {
        "colab": {
          "base_uri": "https://localhost:8080/"
        },
        "id": "tybrND3GmHie",
        "outputId": "8316de86-f1de-4e9f-9566-29950e8f941a"
      },
      "execution_count": 11,
      "outputs": [
        {
          "output_type": "execute_result",
          "data": {
            "text/plain": [
              "30"
            ]
          },
          "metadata": {},
          "execution_count": 11
        }
      ]
    },
    {
      "cell_type": "code",
      "source": [
        "#20.find the common elements in 2 lists.\n",
        "list1=[1,2,3,4,5]\n",
        "list2=[4,5,6,7,8]\n",
        "set1=set(list1)\n",
        "set2=set(list2)\n",
        "common_elements=set1.intersection(set2)\n",
        "print(common_elements)\n",
        "\n",
        "\n"
      ],
      "metadata": {
        "colab": {
          "base_uri": "https://localhost:8080/"
        },
        "id": "fo-WcTGBnK0c",
        "outputId": "f9fc1247-37d7-4232-c5de-b570b903f23b"
      },
      "execution_count": 13,
      "outputs": [
        {
          "output_type": "stream",
          "name": "stdout",
          "text": [
            "{4, 5}\n"
          ]
        }
      ]
    },
    {
      "cell_type": "code",
      "source": [
        "#21.list of numbers and then prints the average of those numbers.\n",
        "numbers=[10,20,30,40,50,]\n",
        "average=sum(numbers)/len(numbers)\n",
        "print(average)"
      ],
      "metadata": {
        "colab": {
          "base_uri": "https://localhost:8080/"
        },
        "id": "zKozlU8Ipr2-",
        "outputId": "80b82bff-80a7-4122-8b7d-66c986130e7a"
      },
      "execution_count": 14,
      "outputs": [
        {
          "output_type": "stream",
          "name": "stdout",
          "text": [
            "30.0\n"
          ]
        }
      ]
    },
    {
      "cell_type": "code",
      "source": [
        "#22.-write a program to calculate and print the sum of a list of numbers.\n",
        "list1=[]\n",
        "sum=0\n",
        "num=0\n",
        "limit=int(input(\"enter the limit\"))\n",
        "while limit>0:\n",
        " new=int(input(\"enter the number\"))\n",
        " list1.append(new)\n",
        " limit-=1\n",
        " sum=sum+list1[num]\n",
        " num+=1\n",
        "print(\"sum of all items in a list\",sum)"
      ],
      "metadata": {
        "id": "v-e69SpWrAwM"
      },
      "execution_count": null,
      "outputs": []
    },
    {
      "cell_type": "code",
      "source": [
        "#23.create a dictionary with three key-value pairs and prints it.\n",
        "dict1={'a':1,'b':2,'c':3}\n",
        "print(dict1)"
      ],
      "metadata": {
        "colab": {
          "base_uri": "https://localhost:8080/"
        },
        "id": "ozZLAInZxvTq",
        "outputId": "c6bc1023-a072-4f2f-ea8e-49c9c97d9eae"
      },
      "execution_count": 20,
      "outputs": [
        {
          "output_type": "stream",
          "name": "stdout",
          "text": [
            "{'a': 1, 'b': 2, 'c': 3}\n"
          ]
        }
      ]
    },
    {
      "cell_type": "code",
      "source": [
        "#24.print numbers from 1 to 5 using a while loop.\n",
        "i=1\n",
        "while i<=5:\n",
        "  print(i)\n",
        "  i+=1\n",
        ""
      ],
      "metadata": {
        "colab": {
          "base_uri": "https://localhost:8080/"
        },
        "id": "eJfqUFFlxGg0",
        "outputId": "3846e069-dcce-4668-99a5-eaa7cd460e09"
      },
      "execution_count": 22,
      "outputs": [
        {
          "output_type": "stream",
          "name": "stdout",
          "text": [
            "1\n",
            "2\n",
            "3\n",
            "4\n",
            "5\n"
          ]
        }
      ]
    },
    {
      "cell_type": "code",
      "source": [
        "#25.write a function squaresthat takes a list of integers and returns new list containing the squares of all even numbers from the orginal list using list comprehension.\n",
        "def squares(numbers):\n",
        "  return [i**2 for i in numbers if i%2==0]\n",
        "numbers=[22,23,24,25,26,27,28,29]\n",
        "print(squares(numbers))\n",
        "\n",
        "\n"
      ],
      "metadata": {
        "id": "kE0wOFzXz8LF"
      },
      "execution_count": null,
      "outputs": []
    },
    {
      "cell_type": "code",
      "source": [
        "#26.print the first and last elements of a list.\n",
        "list1=[1,2,3,4,5]\n",
        "print(list1[0])\n",
        "print(list1[-1])"
      ],
      "metadata": {
        "colab": {
          "base_uri": "https://localhost:8080/"
        },
        "id": "8h1USXtd1j-h",
        "outputId": "b57fa6f3-717b-4a96-e8e3-84d7bbaab988"
      },
      "execution_count": 26,
      "outputs": [
        {
          "output_type": "stream",
          "name": "stdout",
          "text": [
            "1\n",
            "5\n"
          ]
        }
      ]
    },
    {
      "cell_type": "code",
      "source": [
        "#27.concatenates (joins together)2 strings and prints the result.\n",
        "a=\"hello\"\n",
        "b=\"world\"\n",
        "print(a+b)"
      ],
      "metadata": {
        "colab": {
          "base_uri": "https://localhost:8080/"
        },
        "id": "n_NHzitP2jT-",
        "outputId": "b03c1795-9955-4524-acf3-5b0f559e5b0a"
      },
      "execution_count": 27,
      "outputs": [
        {
          "output_type": "stream",
          "name": "stdout",
          "text": [
            "helloworld\n"
          ]
        }
      ]
    },
    {
      "cell_type": "code",
      "source": [
        "#28.compares 2 numbers and prints which one is larger.\n",
        "a=10\n",
        "b=20\n",
        "if a>b:\n",
        "  print(\"a is a larger\")\n",
        "else:\n",
        "  print(\"b is a larger \")\n",
        "\n"
      ],
      "metadata": {
        "colab": {
          "base_uri": "https://localhost:8080/"
        },
        "id": "8C5DGlzX3XFb",
        "outputId": "b0cdd2f5-d9c5-40a6-989f-93421c9a111d"
      },
      "execution_count": 31,
      "outputs": [
        {
          "output_type": "stream",
          "name": "stdout",
          "text": [
            "b is a larger \n"
          ]
        }
      ]
    },
    {
      "cell_type": "code",
      "source": [
        "#29.generate a list of even numbers from 1 to 20.\n",
        "for i in range(1,21):\n",
        "  if i%2==0:\n",
        "    print(i)"
      ],
      "metadata": {
        "colab": {
          "base_uri": "https://localhost:8080/"
        },
        "id": "RxqiF6593XTq",
        "outputId": "174118fe-91cf-4b9c-ac0e-ac79dbb1fcc6"
      },
      "execution_count": 32,
      "outputs": [
        {
          "output_type": "stream",
          "name": "stdout",
          "text": [
            "2\n",
            "4\n",
            "6\n",
            "8\n",
            "10\n",
            "12\n",
            "14\n",
            "16\n",
            "18\n",
            "20\n"
          ]
        }
      ]
    },
    {
      "cell_type": "code",
      "source": [
        "#30.function to add 2 numbers.\n",
        "def add(a,b):\n",
        "  return a+b\n",
        "  add(10,20)\n",
        ""
      ],
      "metadata": {
        "id": "bc4OagxB6QvB"
      },
      "execution_count": 35,
      "outputs": []
    },
    {
      "cell_type": "code",
      "source": [
        "#31.write program to find the common elemetns in 2 lists.\n",
        "color1=\"Red\",\"Green\",\"Orange\",\"White\"\n",
        "color2=\"Black\",\"Green\",\"White\",\"Pink\"\n",
        "print(set(color1).intersection(color2))\n"
      ],
      "metadata": {
        "colab": {
          "base_uri": "https://localhost:8080/"
        },
        "id": "Ke9wJZZa7SkA",
        "outputId": "6a4f57d2-dd22-4405-a484-563a62c66876"
      },
      "execution_count": 36,
      "outputs": [
        {
          "output_type": "stream",
          "name": "stdout",
          "text": [
            "{'Green', 'White'}\n"
          ]
        }
      ]
    },
    {
      "cell_type": "code",
      "source": [
        "#32.write a function count_alphabet_occurances that takes a list of words and returns a dictionary where the keys are alphabetic characters and the values are the number of times each character appears across all the words in the list.\n",
        "def count_alphabet_occurances(words):\n",
        "  char_count={}\n",
        "  for word in words:\n",
        "    for char in word:\n",
        "      if char.isalpha():\n",
        "        char=char.lower()\n",
        "        if char in char_count:\n",
        "          char_count[char]+=1\n",
        "        else:\n",
        "          char_count[char]=1\n",
        "  return char_count\n",
        "\n",
        "words=[\"shina\",\"rasha\",\"shifana\",\"murshida\"]\n",
        "result=count_alphabet_occurances(words)\n",
        "print(result)\n",
        "\n"
      ],
      "metadata": {
        "colab": {
          "base_uri": "https://localhost:8080/"
        },
        "id": "ndfb_bW0CEwa",
        "outputId": "fd482177-c42a-495d-e147-314aa9772541"
      },
      "execution_count": 41,
      "outputs": [
        {
          "output_type": "stream",
          "name": "stdout",
          "text": [
            "{'s': 4, 'h': 4, 'i': 3, 'n': 2, 'a': 6, 'r': 2, 'f': 1, 'm': 1, 'u': 1, 'd': 1}\n"
          ]
        }
      ]
    },
    {
      "cell_type": "code",
      "source": [
        "#33.write a function flatten_list that takes a list of lists and returns a single list containing all the elements from the nested list.\n",
        "def flatten_list(nested_list):\n",
        "  return[item for sublist in nested_list for item in sublist]\n",
        "nested_list=[[1,2,3],[4,5],[6,7,8,9]]\n",
        "flat_list=flatten_list(nested_list)\n",
        "print(flat_list)"
      ],
      "metadata": {
        "colab": {
          "base_uri": "https://localhost:8080/"
        },
        "id": "HF7xNdMkDKmg",
        "outputId": "90591f11-9b95-44dd-8e18-68c80e3a5882"
      },
      "execution_count": 42,
      "outputs": [
        {
          "output_type": "stream",
          "name": "stdout",
          "text": [
            "[1, 2, 3, 4, 5, 6, 7, 8, 9]\n"
          ]
        }
      ]
    },
    {
      "cell_type": "code",
      "source": [
        "#34.write a function count-words that takes a list of string and returns new list containing the words that occur more than twice without using the counter class.\n",
        "\n",
        "words=[\"apple\",\"banana\",\"apple\",\"orange\",\"banana\",\"apple\",\"mango\"]\n",
        "words_count={}\n",
        "\n",
        "for word in words:\n",
        "  if word in words_count:\n",
        "    words_count[word]+=1\n",
        "  else:\n",
        "    words_count[word]=1\n",
        "print(words_count)\n",
        "\n",
        "result=[]\n",
        "for i,j in words_count.items():\n",
        "  if j>=2:\n",
        "    result.append(i)\n",
        "print(result)"
      ],
      "metadata": {
        "colab": {
          "base_uri": "https://localhost:8080/"
        },
        "id": "9rFPhZprDbt1",
        "outputId": "7114e4ec-4ee1-4769-a2f2-047db2303db8"
      },
      "execution_count": 43,
      "outputs": [
        {
          "output_type": "stream",
          "name": "stdout",
          "text": [
            "{'apple': 3, 'banana': 2, 'orange': 1, 'mango': 1}\n",
            "['apple', 'banana']\n"
          ]
        }
      ]
    },
    {
      "cell_type": "code",
      "source": [
        "#35.write a function double_numbers that takes a list of integers and returns new list containing each number doubled using list comprehension.\n",
        "def double_numbers(integers):\n",
        "  return[i*2 for i in integers]\n",
        "integers=[1,2,3,4,5,6,7,8,9,10]\n",
        "print(double_numbers(integers))"
      ],
      "metadata": {
        "colab": {
          "base_uri": "https://localhost:8080/"
        },
        "id": "CNAkRYAvDuBk",
        "outputId": "799bb074-4912-41be-ea86-c6ea7d41c28a"
      },
      "execution_count": 44,
      "outputs": [
        {
          "output_type": "stream",
          "name": "stdout",
          "text": [
            "[2, 4, 6, 8, 10, 12, 14, 16, 18, 20]\n"
          ]
        }
      ]
    }
  ]
}